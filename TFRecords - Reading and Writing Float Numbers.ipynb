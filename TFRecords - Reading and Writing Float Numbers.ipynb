{
 "cells": [
  {
   "cell_type": "markdown",
   "metadata": {},
   "source": [
    "# TFRecords - Reading and Writing Floats\n",
    "### A Simple Example\n"
   ]
  },
  {
   "cell_type": "markdown",
   "metadata": {},
   "source": [
    "### Imports and Config"
   ]
  },
  {
   "cell_type": "code",
   "execution_count": 1,
   "metadata": {},
   "outputs": [],
   "source": [
    "import numpy as np\n",
    "import tensorflow as tf\n",
    "\n",
    "n_examples=10\n",
    "n_features=10"
   ]
  },
  {
   "cell_type": "markdown", 
   "metadata": {},
   "source": [
    "<br>\n",
    "<br>\n",
    "<br>\n",
    "<br>\n",
    "<br>\n",
    "<br>\n"
   ]
  },
  {
   "cell_type": "markdown",
   "metadata": {},
   "source": [
    "\n",
    "### Create Example Data"
   ]
  },
  {
   "cell_type": "code",
   "execution_count": 2,
   "metadata": {},
   "outputs": [
    {
     "data": {
      "text/plain": [
       "array([[0.53256839, 0.16316046, 0.17305134, 0.2624685 , 0.84675716,\n",
       "        0.48003695, 0.97794903, 0.09672142, 0.97187148, 0.85765651],\n",
       "       [0.66239703, 0.27821647, 0.49095072, 0.27416452, 0.02679836,\n",
       "        0.97795281, 0.22941244, 0.88074969, 0.13478916, 0.61541352],\n",
       "       [0.86499207, 0.05236059, 0.51487026, 0.23125378, 0.58760608,\n",
       "        0.20077402, 0.29847524, 0.79686914, 0.96204891, 0.0898839 ],\n",
       "       [0.06911632, 0.42662712, 0.3663498 , 0.40932037, 0.91304755,\n",
       "        0.02461016, 0.35351116, 0.33363828, 0.51454871, 0.15570086],\n",
       "       [0.07268497, 0.38221506, 0.73712743, 0.68361137, 0.03912774,\n",
       "        0.41936159, 0.28868341, 0.04168537, 0.36604433, 0.28190359],\n",
       "       [0.95129493, 0.83699049, 0.98276958, 0.12825478, 0.67446205,\n",
       "        0.46367384, 0.50683356, 0.87687236, 0.16212763, 0.30004027],\n",
       "       [0.86127628, 0.04276522, 0.2389592 , 0.21170807, 0.50786967,\n",
       "        0.17958175, 0.55639269, 0.54422872, 0.0308869 , 0.28348617],\n",
       "       [0.93679978, 0.51643502, 0.81181623, 0.60209187, 0.48795096,\n",
       "        0.20311804, 0.6195177 , 0.03207212, 0.66152385, 0.2427807 ],\n",
       "       [0.50852544, 0.71383015, 0.62786437, 0.43176308, 0.97271703,\n",
       "        0.63981974, 0.53217371, 0.8607178 , 0.18217592, 0.7024459 ],\n",
       "       [0.35998736, 0.6068538 , 0.32357936, 0.30475574, 0.90751708,\n",
       "        0.38712649, 0.66965666, 0.4820219 , 0.11675979, 0.47436621]])"
      ]
     },
     "execution_count": 2,
     "metadata": {},
     "output_type": "execute_result"
    }
   ],
   "source": [
    "examples = np.random.rand(n_features,n_examples)\n",
    "examples"
   ]
  },
  {
   "cell_type": "code",
   "execution_count": 3,
   "metadata": {},
   "outputs": [
    {
     "name": "stdout",
     "output_type": "stream",
     "text": [
      "label=0, feature=[0.53256839 0.16316046 0.17305134 0.2624685  0.84675716 0.48003695\n",
      " 0.97794903 0.09672142 0.97187148 0.85765651]\n",
      "label=1, feature=[0.66239703 0.27821647 0.49095072 0.27416452 0.02679836 0.97795281\n",
      " 0.22941244 0.88074969 0.13478916 0.61541352]\n",
      "label=2, feature=[0.86499207 0.05236059 0.51487026 0.23125378 0.58760608 0.20077402\n",
      " 0.29847524 0.79686914 0.96204891 0.0898839 ]\n",
      "label=3, feature=[0.06911632 0.42662712 0.3663498  0.40932037 0.91304755 0.02461016\n",
      " 0.35351116 0.33363828 0.51454871 0.15570086]\n",
      "label=4, feature=[0.07268497 0.38221506 0.73712743 0.68361137 0.03912774 0.41936159\n",
      " 0.28868341 0.04168537 0.36604433 0.28190359]\n",
      "label=5, feature=[0.95129493 0.83699049 0.98276958 0.12825478 0.67446205 0.46367384\n",
      " 0.50683356 0.87687236 0.16212763 0.30004027]\n",
      "label=6, feature=[0.86127628 0.04276522 0.2389592  0.21170807 0.50786967 0.17958175\n",
      " 0.55639269 0.54422872 0.0308869  0.28348617]\n",
      "label=7, feature=[0.93679978 0.51643502 0.81181623 0.60209187 0.48795096 0.20311804\n",
      " 0.6195177  0.03207212 0.66152385 0.2427807 ]\n",
      "label=8, feature=[0.50852544 0.71383015 0.62786437 0.43176308 0.97271703 0.63981974\n",
      " 0.53217371 0.8607178  0.18217592 0.7024459 ]\n",
      "label=9, feature=[0.35998736 0.6068538  0.32357936 0.30475574 0.90751708 0.38712649\n",
      " 0.66965666 0.4820219  0.11675979 0.47436621]\n"
     ]
    }
   ],
   "source": [
    "for idx in range(examples.shape[0]):\n",
    "    print('label={}, feature={}'.format(idx, examples[idx]))"
   ]
  },
  {
   "cell_type": "markdown",
   "metadata": {},
   "source": [
    "<br>\n",
    "<br>\n",
    "<br>\n",
    "<br>\n",
    "<br>\n",
    "<br>\n"
   ]
  },
  {
   "cell_type": "markdown",
   "metadata": {},
   "source": [
    "### Create TFRecords"
   ]
  },
  {
   "cell_type": "code",
   "execution_count": 5,
   "metadata": {},
   "outputs": [],
   "source": [
    "with tf.io.TFRecordWriter('float-examples.tfrecord') as tfrecord:\n",
    "    for idx in range(examples.shape[0]):\n",
    "        label = [idx]\n",
    "        feature = examples[idx]\n",
    "        features = {\n",
    "            'label': tf.train.Feature(int64_list=tf.train.Int64List(value=label)),\n",
    "            'feature': tf.train.Feature(float_list=tf.train.FloatList(value=feature))\n",
    "        }\n",
    "        example = tf.train.Example(features=tf.train.Features(feature=features))\n",
    "        tfrecord.write(example.SerializeToString())\n"
   ]
  },
  {
   "cell_type": "markdown",
   "metadata": {},
   "source": [
    "<br>\n",
    "<br>\n",
    "<br>\n",
    "<br>\n"
   ]
  },
  {
   "cell_type": "markdown",
   "metadata": {},
   "source": [
    "### Read TFRecords"
   ]
  },
  {
   "cell_type": "code",
   "execution_count": 6,
   "metadata": {},
   "outputs": [],
   "source": [
    "def map_fn(serialized_example):\n",
    "    feature = {\n",
    "        'label': tf.io.FixedLenFeature([1], tf.int64),\n",
    "        'feature': tf.io.FixedLenFeature([n_features], tf.float32)\n",
    "    }\n",
    "    example = tf.io.parse_single_example(serialized_example, feature)\n",
    "    return example['feature'], example['label']\n",
    "\n",
    "dataset = tf.data.TFRecordDataset('float-examples.tfrecord')\n",
    "dataset = dataset.map(map_fn)\n"
   ]
  },
  {
   "cell_type": "code",
   "execution_count": 7,
   "metadata": {},
   "outputs": [
    {
     "name": "stdout",
     "output_type": "stream",
     "text": [
      "label=[0], feature=[0.5325684  0.16316046 0.17305134 0.2624685  0.8467572  0.48003694\n",
      " 0.977949   0.09672142 0.9718715  0.85765654]\n",
      "label=[1], feature=[0.662397   0.27821645 0.4909507  0.27416453 0.02679836 0.9779528\n",
      " 0.22941244 0.8807497  0.13478915 0.61541355]\n",
      "label=[2], feature=[0.8649921  0.05236059 0.5148702  0.23125379 0.5876061  0.20077403\n",
      " 0.29847524 0.79686916 0.9620489  0.0898839 ]\n",
      "label=[3], feature=[0.06911632 0.42662713 0.3663498  0.40932038 0.91304755 0.02461016\n",
      " 0.35351115 0.33363828 0.5145487  0.15570086]\n",
      "label=[4], feature=[0.07268497 0.38221505 0.7371274  0.6836114  0.03912774 0.4193616\n",
      " 0.2886834  0.04168538 0.36604434 0.2819036 ]\n",
      "label=[5], feature=[0.95129496 0.8369905  0.98276955 0.12825479 0.674462   0.46367383\n",
      " 0.50683355 0.87687236 0.16212763 0.30004027]\n",
      "label=[6], feature=[0.86127627 0.04276522 0.2389592  0.21170807 0.50786966 0.17958175\n",
      " 0.55639267 0.54422873 0.0308869  0.28348616]\n",
      "label=[7], feature=[0.93679976 0.516435   0.8118162  0.60209185 0.48795095 0.20311804\n",
      " 0.6195177  0.03207212 0.6615238  0.2427807 ]\n",
      "label=[8], feature=[0.50852543 0.7138302  0.62786436 0.43176308 0.97271705 0.63981974\n",
      " 0.5321737  0.86071783 0.18217592 0.7024459 ]\n",
      "label=[9], feature=[0.35998735 0.6068538  0.32357937 0.30475575 0.9075171  0.38712648\n",
      " 0.66965663 0.4820219  0.11675979 0.47436622]\n"
     ]
    }
   ],
   "source": [
    "for feature, label in dataset.take(10):\n",
    "    print('label={}, feature={}'.format(label, feature))"
   ]
  }
 ],
 "metadata": {
  "kernelspec": {
   "display_name": "Python 3",
   "language": "python",
   "name": "python3"
  },
  "language_info": {
   "codemirror_mode": {
    "name": "ipython",
    "version": 3
   },
   "file_extension": ".py",
   "mimetype": "text/x-python",
   "name": "python",
   "nbconvert_exporter": "python",
   "pygments_lexer": "ipython3",
   "version": "3.6.9"
  }
 },
 "nbformat": 4,
 "nbformat_minor": 4
}
